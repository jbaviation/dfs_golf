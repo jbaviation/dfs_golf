{
 "cells": [
  {
   "cell_type": "markdown",
   "metadata": {},
   "source": [
    "# PGA Tour Data Retrieval\n",
    "This notebook is for working with PGA_Data folder for retreiving revelant PGA Tour data that has been webscraped from [pgatour.com](https://www.pgatour.com/)."
   ]
  },
  {
   "cell_type": "code",
   "execution_count": 101,
   "metadata": {},
   "outputs": [
    {
     "data": {
      "text/plain": [
       "<module 'pga_data.scrape' from 'C:\\\\Users\\\\jborman\\\\Documents\\\\Python\\\\dfs_golf\\\\pga_data\\\\scrape.py'>"
      ]
     },
     "execution_count": 101,
     "metadata": {},
     "output_type": "execute_result"
    }
   ],
   "source": [
    "# General libraries\n",
    "import pandas as pd\n",
    "import numpy as np\n",
    "from importlib import reload\n",
    "import difflib\n",
    "\n",
    "# Self made libraries\n",
    "import pga_data.scrape\n",
    "import pga_data.mapping\n",
    "\n",
    "# Reload libraries\n",
    "reload(pga_data.mapping)\n",
    "reload(pga_data.scrape)"
   ]
  },
  {
   "cell_type": "code",
   "execution_count": 102,
   "metadata": {},
   "outputs": [
    {
     "name": "stdout",
     "output_type": "stream",
     "text": [
      "{'stat name': 'Top 10 Finishes', 'stat id': '138', 'stat category': 'Money/Finishes', 'years': [1980, 1981, 1982, 1983, 1984, 1985, 1986, 1987, 1988, 1989, 1990, 1991, 1992, 1993, 1994, 1995, 1996, 1997, 1998, 1999, 2000, 2001, 2002, 2003, 2004, 2005, 2006, 2007, 2008, 2009, 2010, 2011, 2012, 2013, 2014, 2015, 2016, 2017, 2018, 2019, 2020, 2021], 'tournament option': True}\n"
     ]
    },
    {
     "data": {
      "text/html": [
       "<div>\n",
       "<style scoped>\n",
       "    .dataframe tbody tr th:only-of-type {\n",
       "        vertical-align: middle;\n",
       "    }\n",
       "\n",
       "    .dataframe tbody tr th {\n",
       "        vertical-align: top;\n",
       "    }\n",
       "\n",
       "    .dataframe thead th {\n",
       "        text-align: right;\n",
       "    }\n",
       "</style>\n",
       "<table border=\"1\" class=\"dataframe\">\n",
       "  <thead>\n",
       "    <tr style=\"text-align: right;\">\n",
       "      <th></th>\n",
       "      <th>RANK THIS WEEK</th>\n",
       "      <th>RANK LAST WEEK</th>\n",
       "      <th>PLAYER NAME</th>\n",
       "      <th>TOP 10</th>\n",
       "      <th>1ST</th>\n",
       "      <th>2ND</th>\n",
       "      <th>3RD</th>\n",
       "    </tr>\n",
       "  </thead>\n",
       "  <tbody>\n",
       "    <tr>\n",
       "      <th>0</th>\n",
       "      <td>1</td>\n",
       "      <td>1</td>\n",
       "      <td>Jon Rahm</td>\n",
       "      <td>12</td>\n",
       "      <td>1.0</td>\n",
       "      <td>1.0</td>\n",
       "      <td>1.0</td>\n",
       "    </tr>\n",
       "    <tr>\n",
       "      <th>1</th>\n",
       "      <td>2</td>\n",
       "      <td>2</td>\n",
       "      <td>Jordan Spieth</td>\n",
       "      <td>9</td>\n",
       "      <td>1.0</td>\n",
       "      <td>2.0</td>\n",
       "      <td>2.0</td>\n",
       "    </tr>\n",
       "    <tr>\n",
       "      <th>2</th>\n",
       "      <td>T3</td>\n",
       "      <td>T7</td>\n",
       "      <td>Harris English</td>\n",
       "      <td>8</td>\n",
       "      <td>2.0</td>\n",
       "      <td>NaN</td>\n",
       "      <td>1.0</td>\n",
       "    </tr>\n",
       "    <tr>\n",
       "      <th>3</th>\n",
       "      <td>T3</td>\n",
       "      <td>T3</td>\n",
       "      <td>Brooks Koepka</td>\n",
       "      <td>8</td>\n",
       "      <td>1.0</td>\n",
       "      <td>2.0</td>\n",
       "      <td>NaN</td>\n",
       "    </tr>\n",
       "    <tr>\n",
       "      <th>4</th>\n",
       "      <td>T3</td>\n",
       "      <td>T7</td>\n",
       "      <td>Daniel Berger</td>\n",
       "      <td>8</td>\n",
       "      <td>1.0</td>\n",
       "      <td>NaN</td>\n",
       "      <td>1.0</td>\n",
       "    </tr>\n",
       "    <tr>\n",
       "      <th>...</th>\n",
       "      <td>...</td>\n",
       "      <td>...</td>\n",
       "      <td>...</td>\n",
       "      <td>...</td>\n",
       "      <td>...</td>\n",
       "      <td>...</td>\n",
       "      <td>...</td>\n",
       "    </tr>\n",
       "    <tr>\n",
       "      <th>175</th>\n",
       "      <td>T125</td>\n",
       "      <td>T124</td>\n",
       "      <td>David Lipsky</td>\n",
       "      <td>1</td>\n",
       "      <td>NaN</td>\n",
       "      <td>NaN</td>\n",
       "      <td>NaN</td>\n",
       "    </tr>\n",
       "    <tr>\n",
       "      <th>176</th>\n",
       "      <td>T125</td>\n",
       "      <td>T124</td>\n",
       "      <td>Patrick Rodgers</td>\n",
       "      <td>1</td>\n",
       "      <td>NaN</td>\n",
       "      <td>NaN</td>\n",
       "      <td>NaN</td>\n",
       "    </tr>\n",
       "    <tr>\n",
       "      <th>177</th>\n",
       "      <td>T125</td>\n",
       "      <td>T124</td>\n",
       "      <td>Christiaan Bezuidenhout</td>\n",
       "      <td>1</td>\n",
       "      <td>NaN</td>\n",
       "      <td>NaN</td>\n",
       "      <td>NaN</td>\n",
       "    </tr>\n",
       "    <tr>\n",
       "      <th>178</th>\n",
       "      <td>T125</td>\n",
       "      <td>T124</td>\n",
       "      <td>Ollie Schniederjans</td>\n",
       "      <td>1</td>\n",
       "      <td>NaN</td>\n",
       "      <td>NaN</td>\n",
       "      <td>1.0</td>\n",
       "    </tr>\n",
       "    <tr>\n",
       "      <th>179</th>\n",
       "      <td>T125</td>\n",
       "      <td>T124</td>\n",
       "      <td>Austin Cook</td>\n",
       "      <td>1</td>\n",
       "      <td>NaN</td>\n",
       "      <td>1.0</td>\n",
       "      <td>NaN</td>\n",
       "    </tr>\n",
       "  </tbody>\n",
       "</table>\n",
       "<p>180 rows × 7 columns</p>\n",
       "</div>"
      ],
      "text/plain": [
       "    RANK THIS WEEK RANK LAST WEEK              PLAYER NAME  TOP 10  1ST  2ND  \\\n",
       "0                1              1                 Jon Rahm      12  1.0  1.0   \n",
       "1                2              2            Jordan Spieth       9  1.0  2.0   \n",
       "2               T3             T7           Harris English       8  2.0  NaN   \n",
       "3               T3             T3            Brooks Koepka       8  1.0  2.0   \n",
       "4               T3             T7            Daniel Berger       8  1.0  NaN   \n",
       "..             ...            ...                      ...     ...  ...  ...   \n",
       "175           T125           T124             David Lipsky       1  NaN  NaN   \n",
       "176           T125           T124          Patrick Rodgers       1  NaN  NaN   \n",
       "177           T125           T124  Christiaan Bezuidenhout       1  NaN  NaN   \n",
       "178           T125           T124      Ollie Schniederjans       1  NaN  NaN   \n",
       "179           T125           T124              Austin Cook       1  NaN  1.0   \n",
       "\n",
       "     3RD  \n",
       "0    1.0  \n",
       "1    2.0  \n",
       "2    1.0  \n",
       "3    NaN  \n",
       "4    1.0  \n",
       "..   ...  \n",
       "175  NaN  \n",
       "176  NaN  \n",
       "177  NaN  \n",
       "178  1.0  \n",
       "179  NaN  \n",
       "\n",
       "[180 rows x 7 columns]"
      ]
     },
     "execution_count": 102,
     "metadata": {},
     "output_type": "execute_result"
    }
   ],
   "source": [
    "cat = pga_data.scrape.stat(stat='Top 10 Finishes')\n",
    "df=cat.pull()\n",
    "\n",
    "print(cat.stat)\n",
    "df"
   ]
  },
  {
   "cell_type": "markdown",
   "metadata": {},
   "source": [
    "## Try to Extract Tournament IDs from pgatour.com\n",
    "Webscrape to perform this task"
   ]
  },
  {
   "cell_type": "code",
   "execution_count": 161,
   "metadata": {},
   "outputs": [
    {
     "name": "stdout",
     "output_type": "stream",
     "text": [
      "Retrieving All-Time Records...\n",
      "  SG: Total\n",
      "  SG: Tee to Green\n",
      "  SG: Off the Tee\n",
      "  SG: Approach the Green\n",
      "  SG: Around the Green\n",
      "  SG: Putting\n",
      "...All-Time Records COMPLETE!\n",
      "\n"
     ]
    }
   ],
   "source": [
    "# Attempt all-time records\n",
    "maps = [pga_data.mapping.shots_gained_map]\n",
    "cats = ['All-Time Records']\n",
    "\n",
    "pga_data.mapping.write_stat_meta(maps, cats)"
   ]
  },
  {
   "cell_type": "markdown",
   "metadata": {},
   "source": [
    "## Modify mapping.py functions for new meta data formats"
   ]
  },
  {
   "cell_type": "code",
   "execution_count": 97,
   "metadata": {},
   "outputs": [],
   "source": [
    "reload(pga_data.mapping)\n",
    "meta = pga_data.mapping.mapping()\n",
    "\n",
    "# stat = ['Longest Putts', 'Three-Putts Per Round']\n",
    "stat = 'Longest Putts'"
   ]
  },
  {
   "cell_type": "code",
   "execution_count": 100,
   "metadata": {},
   "outputs": [
    {
     "data": {
      "text/plain": [
       "'498'"
      ]
     },
     "execution_count": 100,
     "metadata": {},
     "output_type": "execute_result"
    }
   ],
   "source": [
    "meta.list_stat('498', from_id=True)['stat id']"
   ]
  }
 ],
 "metadata": {
  "kernelspec": {
   "display_name": "Python 3",
   "language": "python",
   "name": "python3"
  },
  "language_info": {
   "codemirror_mode": {
    "name": "ipython",
    "version": 3
   },
   "file_extension": ".py",
   "mimetype": "text/x-python",
   "name": "python",
   "nbconvert_exporter": "python",
   "pygments_lexer": "ipython3",
   "version": "3.8.8"
  }
 },
 "nbformat": 4,
 "nbformat_minor": 4
}

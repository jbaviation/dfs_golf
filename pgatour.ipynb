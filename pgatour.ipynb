{
 "cells": [
  {
   "cell_type": "markdown",
   "metadata": {},
   "source": [
    "# PGA Tour Data Retrieval\n",
    "This notebook is for working with PGA_Data folder for retreiving revelant PGA Tour data that has been webscraped from [pgatour.com](https://www.pgatour.com/)."
   ]
  },
  {
   "cell_type": "code",
   "execution_count": 159,
   "metadata": {},
   "outputs": [
    {
     "data": {
      "text/plain": [
       "<module 'pga_data.scrape' from 'C:\\\\Users\\\\jborman\\\\Documents\\\\Python\\\\dfs_golf\\\\pga_data\\\\scrape.py'>"
      ]
     },
     "execution_count": 159,
     "metadata": {},
     "output_type": "execute_result"
    }
   ],
   "source": [
    "# General libraries\n",
    "import pandas as pd\n",
    "import numpy as np\n",
    "from importlib import reload\n",
    "import difflib\n",
    "\n",
    "# Self made libraries\n",
    "import pga_data.scrape\n",
    "import pga_data.mapping\n",
    "\n",
    "# Reload libraries\n",
    "reload(pga_data.mapping)\n",
    "reload(pga_data.scrape)"
   ]
  },
  {
   "cell_type": "code",
   "execution_count": 4,
   "metadata": {},
   "outputs": [
    {
     "name": "stdout",
     "output_type": "stream",
     "text": [
      "Top 10 Finishes\n"
     ]
    },
    {
     "data": {
      "text/html": [
       "<div>\n",
       "<style scoped>\n",
       "    .dataframe tbody tr th:only-of-type {\n",
       "        vertical-align: middle;\n",
       "    }\n",
       "\n",
       "    .dataframe tbody tr th {\n",
       "        vertical-align: top;\n",
       "    }\n",
       "\n",
       "    .dataframe thead th {\n",
       "        text-align: right;\n",
       "    }\n",
       "</style>\n",
       "<table border=\"1\" class=\"dataframe\">\n",
       "  <thead>\n",
       "    <tr style=\"text-align: right;\">\n",
       "      <th></th>\n",
       "      <th>RANK THIS WEEK</th>\n",
       "      <th>RANK LAST WEEK</th>\n",
       "      <th>PLAYER NAME</th>\n",
       "      <th>TOP 10</th>\n",
       "      <th>1ST</th>\n",
       "      <th>2ND</th>\n",
       "      <th>3RD</th>\n",
       "    </tr>\n",
       "  </thead>\n",
       "  <tbody>\n",
       "    <tr>\n",
       "      <th>0</th>\n",
       "      <td>1</td>\n",
       "      <td>1</td>\n",
       "      <td>Jon Rahm</td>\n",
       "      <td>12</td>\n",
       "      <td>1.0</td>\n",
       "      <td>1.0</td>\n",
       "      <td>1.0</td>\n",
       "    </tr>\n",
       "    <tr>\n",
       "      <th>1</th>\n",
       "      <td>2</td>\n",
       "      <td>2</td>\n",
       "      <td>Jordan Spieth</td>\n",
       "      <td>9</td>\n",
       "      <td>1.0</td>\n",
       "      <td>2.0</td>\n",
       "      <td>2.0</td>\n",
       "    </tr>\n",
       "    <tr>\n",
       "      <th>2</th>\n",
       "      <td>T3</td>\n",
       "      <td>T3</td>\n",
       "      <td>Brooks Koepka</td>\n",
       "      <td>8</td>\n",
       "      <td>1.0</td>\n",
       "      <td>2.0</td>\n",
       "      <td>NaN</td>\n",
       "    </tr>\n",
       "    <tr>\n",
       "      <th>3</th>\n",
       "      <td>T3</td>\n",
       "      <td>T3</td>\n",
       "      <td>Scottie Scheffler</td>\n",
       "      <td>8</td>\n",
       "      <td>NaN</td>\n",
       "      <td>1.0</td>\n",
       "      <td>1.0</td>\n",
       "    </tr>\n",
       "    <tr>\n",
       "      <th>4</th>\n",
       "      <td>T3</td>\n",
       "      <td>T6</td>\n",
       "      <td>Louis Oosthuizen</td>\n",
       "      <td>8</td>\n",
       "      <td>NaN</td>\n",
       "      <td>4.0</td>\n",
       "      <td>2.0</td>\n",
       "    </tr>\n",
       "    <tr>\n",
       "      <th>...</th>\n",
       "      <td>...</td>\n",
       "      <td>...</td>\n",
       "      <td>...</td>\n",
       "      <td>...</td>\n",
       "      <td>...</td>\n",
       "      <td>...</td>\n",
       "      <td>...</td>\n",
       "    </tr>\n",
       "    <tr>\n",
       "      <th>171</th>\n",
       "      <td>T124</td>\n",
       "      <td>T122</td>\n",
       "      <td>Thomas Pieters</td>\n",
       "      <td>1</td>\n",
       "      <td>NaN</td>\n",
       "      <td>NaN</td>\n",
       "      <td>NaN</td>\n",
       "    </tr>\n",
       "    <tr>\n",
       "      <th>172</th>\n",
       "      <td>T124</td>\n",
       "      <td>T122</td>\n",
       "      <td>Michael Gligic</td>\n",
       "      <td>1</td>\n",
       "      <td>NaN</td>\n",
       "      <td>NaN</td>\n",
       "      <td>NaN</td>\n",
       "    </tr>\n",
       "    <tr>\n",
       "      <th>173</th>\n",
       "      <td>T124</td>\n",
       "      <td>T122</td>\n",
       "      <td>Andrew Landry</td>\n",
       "      <td>1</td>\n",
       "      <td>NaN</td>\n",
       "      <td>NaN</td>\n",
       "      <td>NaN</td>\n",
       "    </tr>\n",
       "    <tr>\n",
       "      <th>174</th>\n",
       "      <td>T124</td>\n",
       "      <td>T122</td>\n",
       "      <td>Ben Martin</td>\n",
       "      <td>1</td>\n",
       "      <td>NaN</td>\n",
       "      <td>NaN</td>\n",
       "      <td>NaN</td>\n",
       "    </tr>\n",
       "    <tr>\n",
       "      <th>175</th>\n",
       "      <td>T124</td>\n",
       "      <td>T122</td>\n",
       "      <td>Byeong Hun An</td>\n",
       "      <td>1</td>\n",
       "      <td>NaN</td>\n",
       "      <td>NaN</td>\n",
       "      <td>NaN</td>\n",
       "    </tr>\n",
       "  </tbody>\n",
       "</table>\n",
       "<p>176 rows × 7 columns</p>\n",
       "</div>"
      ],
      "text/plain": [
       "    RANK THIS WEEK RANK LAST WEEK        PLAYER NAME  TOP 10  1ST  2ND  3RD\n",
       "0                1              1           Jon Rahm      12  1.0  1.0  1.0\n",
       "1                2              2      Jordan Spieth       9  1.0  2.0  2.0\n",
       "2               T3             T3      Brooks Koepka       8  1.0  2.0  NaN\n",
       "3               T3             T3  Scottie Scheffler       8  NaN  1.0  1.0\n",
       "4               T3             T6   Louis Oosthuizen       8  NaN  4.0  2.0\n",
       "..             ...            ...                ...     ...  ...  ...  ...\n",
       "171           T124           T122     Thomas Pieters       1  NaN  NaN  NaN\n",
       "172           T124           T122     Michael Gligic       1  NaN  NaN  NaN\n",
       "173           T124           T122      Andrew Landry       1  NaN  NaN  NaN\n",
       "174           T124           T122         Ben Martin       1  NaN  NaN  NaN\n",
       "175           T124           T122      Byeong Hun An       1  NaN  NaN  NaN\n",
       "\n",
       "[176 rows x 7 columns]"
      ]
     },
     "execution_count": 4,
     "metadata": {},
     "output_type": "execute_result"
    }
   ],
   "source": [
    "cat = pga_data.scrape.stat(stat='Top 10 Finishes')\n",
    "df=cat.pull()\n",
    "\n",
    "print(cat.stat)\n",
    "df"
   ]
  },
  {
   "cell_type": "markdown",
   "metadata": {},
   "source": [
    "## Try to Extract Tournament IDs from pgatour.com\n",
    "Webscrape to perform this task"
   ]
  },
  {
   "cell_type": "code",
   "execution_count": 161,
   "metadata": {},
   "outputs": [
    {
     "name": "stdout",
     "output_type": "stream",
     "text": [
      "Retrieving All-Time Records...\n",
      "  SG: Total\n",
      "  SG: Tee to Green\n",
      "  SG: Off the Tee\n",
      "  SG: Approach the Green\n",
      "  SG: Around the Green\n",
      "  SG: Putting\n",
      "...All-Time Records COMPLETE!\n",
      "\n"
     ]
    }
   ],
   "source": [
    "# Attempt all-time records\n",
    "maps = [pga_data.mapping.shots_gained_map]\n",
    "cats = ['All-Time Records']\n",
    "\n",
    "pga_data.mapping.write_stat_meta(maps, cats)"
   ]
  },
  {
   "cell_type": "code",
   "execution_count": 158,
   "metadata": {},
   "outputs": [],
   "source": []
  }
 ],
 "metadata": {
  "kernelspec": {
   "display_name": "Python 3",
   "language": "python",
   "name": "python3"
  },
  "language_info": {
   "codemirror_mode": {
    "name": "ipython",
    "version": 3
   },
   "file_extension": ".py",
   "mimetype": "text/x-python",
   "name": "python",
   "nbconvert_exporter": "python",
   "pygments_lexer": "ipython3",
   "version": "3.8.8"
  }
 },
 "nbformat": 4,
 "nbformat_minor": 4
}

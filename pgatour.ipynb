{
 "cells": [
  {
   "cell_type": "markdown",
   "metadata": {},
   "source": [
    "# PGA Tour Data Retrieval\n",
    "This notebook is for working with PGA_Data folder for retreiving revelant PGA Tour data that has been webscraped from [pgatour.com](https://www.pgatour.com/)."
   ]
  },
  {
   "cell_type": "code",
   "execution_count": null,
   "metadata": {},
   "outputs": [],
   "source": [
    "# General libraries\n",
    "import pandas as pd\n",
    "import numpy as np\n",
    "from importlib import reload\n",
    "\n",
    "# Self made libraries\n",
    "import pga_data.scrape\n",
    "\n",
    "# Reload libraries\n",
    "reload(pga_data.scrape)"
   ]
  },
  {
   "cell_type": "code",
   "execution_count": null,
   "metadata": {},
   "outputs": [],
   "source": [
    "cat = pga_data.scrape.stat('putting')\n",
    "cat.pull()"
   ]
  },
  {
   "cell_type": "code",
   "execution_count": null,
   "metadata": {},
   "outputs": [],
   "source": [
    "import difflib\n",
    "import pga_data.mapping\n",
    "reload(pga_data.mapping)\n",
    "\n",
    "stats=pga_data.mapping.combine_dicts([pga_data.mapping.off_the_tee_map,pga_data.mapping.shots_gained_map])\n",
    "search = ['Driving Percentage 320+','SG: Putting']\n",
    "search2= 'SG: Putting'\n",
    "\n",
    "pga_data.mapping.list_stat(search2)"
   ]
  }
 ],
 "metadata": {
  "kernelspec": {
   "display_name": "Python 3",
   "language": "python",
   "name": "python3"
  },
  "language_info": {
   "codemirror_mode": {
    "name": "ipython",
    "version": 3
   },
   "file_extension": ".py",
   "mimetype": "text/x-python",
   "name": "python",
   "nbconvert_exporter": "python",
   "pygments_lexer": "ipython3",
   "version": "3.8.8"
  }
 },
 "nbformat": 4,
 "nbformat_minor": 4
}

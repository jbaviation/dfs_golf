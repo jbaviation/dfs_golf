{
 "cells": [
  {
   "cell_type": "markdown",
   "metadata": {},
   "source": [
    "# PGA Tour Data Retrieval\n",
    "This notebook is for working with PGA_Data folder for retreiving revelant PGA Tour data that has been webscraped from [pgatour.com](https://www.pgatour.com/)."
   ]
  },
  {
   "cell_type": "code",
   "execution_count": 14,
   "metadata": {},
   "outputs": [
    {
     "data": {
      "text/plain": [
       "<module 'pga_data.scrape' from 'C:\\\\Users\\\\jborman\\\\Documents\\\\Python\\\\dfs_golf\\\\pga_data\\\\scrape.py'>"
      ]
     },
     "execution_count": 14,
     "metadata": {},
     "output_type": "execute_result"
    }
   ],
   "source": [
    "# General libraries\n",
    "import pandas as pd\n",
    "import numpy as np\n",
    "from importlib import reload\n",
    "import difflib\n",
    "\n",
    "# Self made libraries\n",
    "import pga_data.scrape\n",
    "import pga_data.mapping\n",
    "\n",
    "# Reload libraries\n",
    "reload(pga_data.mapping)\n",
    "reload(pga_data.scrape)"
   ]
  },
  {
   "cell_type": "code",
   "execution_count": 16,
   "metadata": {},
   "outputs": [
    {
     "data": {
      "text/plain": [
       "dict_keys(['SG: Putting', 'One-Putt Percentage', 'One-Putt Percentage - Round 1', 'One-Putt Percentage - Round 2', 'One-Putt Percentage - Round 3', 'One-Putt Percentage - Round 4', 'One-Putt Percentage - Round 5', 'Total One-Putts <5 Feet', 'Total One-Putts 5-10 Feet', 'Total One-Putts 10-15 Feet', 'Total One-Putts 15-20 Feet', 'Total One-Putts 20-25 Feet', 'Total One-Putts >25 Feet', 'One-Putts Per Round', 'Longest Putts', 'Three-Putt Avoidance', 'Three-Putt Avoidance - Round 1', 'Three-Putt Avoidance - Round 2', 'Three-Putt Avoidance - Round 3', 'Three-Putt Avoidance - Round 4', 'Three-Putt Avoidance - Round 5', 'Three-Putt Avoidance <5 Feet', 'Three-Putt Avoidance 5-10 Feet', 'Three-Putt Avoidance 10-15 Feet', 'Three-Putt Avoidance 15-20 Feet', 'Three-Putt Avoidance 20-25 Feet', 'Three-Putt Avoidance >25 Feet', 'Total Three-Putts <5 Feet', 'Total Three-Putts 5-10 Feet', 'Total Three-Putts 10-15 Feet', 'Total Three-Putts 15-20 Feet', 'Total Three-Putts 20-25 Feet', 'Total Three-Putts >25 Feet', 'Three-Putts Per Round', 'Three-Putts or Greater Per Round', 'Putts Made From >25 Feet', 'Putts Made From >20 Feet', 'Putts Made From 15-25 Feet', 'Putts Made From 20-25 Feet', 'Putts Made From 15-20 Feet', 'Putts Made From 5-15 Feet', 'Putts Made From 10-15 Feet', 'Putts Made From <10 Feet', 'Putts Made From 5-10 Feet', 'Putts Made From 3-5 Feet', 'Putts Made From <5 Feet', 'Putts Made From 10 Feet', 'Putts Made From 9 Feet', 'Putts Made From 8 Feet', 'Putts Made From 7 Feet', 'Putts Made From 6 Feet', 'Putts Made From 5 Feet', 'Putts Made From >10 Feet', 'Putts Made From 4-8 Feet', 'Putts Made From 4 Feet', 'Putts Made From 3 Feet', 'Putts Made From >10 Feet Per Event', 'Putts Made From >20 Feet Per Event', 'GIR Average Putts From >35 Feet', 'GIR Average Putts From 30-35 Feet', 'GIR Average Putts From 25-30 Feet', 'GIR Average Putts From >25 Feet', 'GIR Average Putts From 20-25 Feet', 'GIR Average Putts From 15-20 Feet', 'GIR Average Putts From 10-15 Feet', 'GIR Average Putts From 5-10 Feet', 'GIR Average Putts From <5 Feet', 'Putts Per Round', 'Putts Per Round - Round 1', 'Putts Per Round - Round 2', 'Putts Per Round - Round 3', 'Putts Per Round - Round 4', 'Putts Per Round - Round 5', 'Two-Putts Per Round', 'Total Putting', 'Bonus Putting', 'Putting Average', 'Overall Putting Average', 'Average Putt Distance - All One-Putts', 'Average Putt Distance - All Two-Putts', 'Average Putt Distance - All Three-Putts', 'Average Putt Distance - All >=Three-Putts', 'Average Putt Distance - GIR One-Putts', 'Average Putt Distance - GIR Two-Putts', 'Average Putt Distance - GIR Three-Putts', 'Average Putt Distance - GIR >=Three-Putts', 'Average Putt Distance of Putts Made', 'Average Putt Distance of Birdie Putts Made', 'Average Putt Distance of Eagle Putts Made', 'Average Putts Made Distance', 'Average Approach Putt Performance', 'One-Putt or Better Streak (YTD)', 'Streak Without Three-Putt (Current)', 'Streak Without Three-Putt (YTD)', 'Putting Rating', 'Putting Rating - Last 5 Events', 'Putting Rating - Last 15 Events', 'Fewest Putts For 18 Holes', 'Fewest Putts For 72 Holes', 'Fewest Putts For 9 Holes'])"
      ]
     },
     "execution_count": 16,
     "metadata": {},
     "output_type": "execute_result"
    }
   ],
   "source": [
    "pga_data.mapping.list_stats_from_keyword('Putt').keys()"
   ]
  },
  {
   "cell_type": "code",
   "execution_count": 10,
   "metadata": {},
   "outputs": [
    {
     "name": "stdout",
     "output_type": "stream",
     "text": [
      "One-Putt Percentage\n"
     ]
    },
    {
     "data": {
      "text/html": [
       "<div>\n",
       "<style scoped>\n",
       "    .dataframe tbody tr th:only-of-type {\n",
       "        vertical-align: middle;\n",
       "    }\n",
       "\n",
       "    .dataframe tbody tr th {\n",
       "        vertical-align: top;\n",
       "    }\n",
       "\n",
       "    .dataframe thead th {\n",
       "        text-align: right;\n",
       "    }\n",
       "</style>\n",
       "<table border=\"1\" class=\"dataframe\">\n",
       "  <thead>\n",
       "    <tr style=\"text-align: right;\">\n",
       "      <th></th>\n",
       "      <th>RANK THIS WEEK</th>\n",
       "      <th>RANK LAST WEEK</th>\n",
       "      <th>PLAYER NAME</th>\n",
       "      <th>ROUNDS</th>\n",
       "      <th>%</th>\n",
       "      <th># OF 1 PUTTS</th>\n",
       "      <th># OF HOLES</th>\n",
       "    </tr>\n",
       "  </thead>\n",
       "  <tbody>\n",
       "    <tr>\n",
       "      <th>0</th>\n",
       "      <td>1</td>\n",
       "      <td>2</td>\n",
       "      <td>Ian Poulter</td>\n",
       "      <td>68</td>\n",
       "      <td>44.36</td>\n",
       "      <td>511</td>\n",
       "      <td>1152</td>\n",
       "    </tr>\n",
       "    <tr>\n",
       "      <th>1</th>\n",
       "      <td>2</td>\n",
       "      <td>1</td>\n",
       "      <td>Patrick Reed</td>\n",
       "      <td>69</td>\n",
       "      <td>44.28</td>\n",
       "      <td>526</td>\n",
       "      <td>1188</td>\n",
       "    </tr>\n",
       "    <tr>\n",
       "      <th>2</th>\n",
       "      <td>3</td>\n",
       "      <td>3</td>\n",
       "      <td>Cameron Smith</td>\n",
       "      <td>73</td>\n",
       "      <td>44.02</td>\n",
       "      <td>523</td>\n",
       "      <td>1188</td>\n",
       "    </tr>\n",
       "    <tr>\n",
       "      <th>3</th>\n",
       "      <td>4</td>\n",
       "      <td>5</td>\n",
       "      <td>Tom Hoge</td>\n",
       "      <td>86</td>\n",
       "      <td>43.12</td>\n",
       "      <td>652</td>\n",
       "      <td>1512</td>\n",
       "    </tr>\n",
       "    <tr>\n",
       "      <th>4</th>\n",
       "      <td>5</td>\n",
       "      <td>7</td>\n",
       "      <td>Anirban Lahiri</td>\n",
       "      <td>60</td>\n",
       "      <td>42.96</td>\n",
       "      <td>464</td>\n",
       "      <td>1080</td>\n",
       "    </tr>\n",
       "    <tr>\n",
       "      <th>...</th>\n",
       "      <td>...</td>\n",
       "      <td>...</td>\n",
       "      <td>...</td>\n",
       "      <td>...</td>\n",
       "      <td>...</td>\n",
       "      <td>...</td>\n",
       "      <td>...</td>\n",
       "    </tr>\n",
       "    <tr>\n",
       "      <th>203</th>\n",
       "      <td>204</td>\n",
       "      <td>203</td>\n",
       "      <td>Joseph Bramlett</td>\n",
       "      <td>74</td>\n",
       "      <td>34.88</td>\n",
       "      <td>452</td>\n",
       "      <td>1296</td>\n",
       "    </tr>\n",
       "    <tr>\n",
       "      <th>204</th>\n",
       "      <td>205</td>\n",
       "      <td>204</td>\n",
       "      <td>Matthew NeSmith</td>\n",
       "      <td>84</td>\n",
       "      <td>34.76</td>\n",
       "      <td>513</td>\n",
       "      <td>1476</td>\n",
       "    </tr>\n",
       "    <tr>\n",
       "      <th>205</th>\n",
       "      <td>206</td>\n",
       "      <td>206</td>\n",
       "      <td>Kevin Stadler</td>\n",
       "      <td>41</td>\n",
       "      <td>34.62</td>\n",
       "      <td>243</td>\n",
       "      <td>702</td>\n",
       "    </tr>\n",
       "    <tr>\n",
       "      <th>206</th>\n",
       "      <td>207</td>\n",
       "      <td>207</td>\n",
       "      <td>Michael Gellerman</td>\n",
       "      <td>43</td>\n",
       "      <td>34.01</td>\n",
       "      <td>251</td>\n",
       "      <td>738</td>\n",
       "    </tr>\n",
       "    <tr>\n",
       "      <th>207</th>\n",
       "      <td>208</td>\n",
       "      <td>208</td>\n",
       "      <td>Cameron Champ</td>\n",
       "      <td>63</td>\n",
       "      <td>33.62</td>\n",
       "      <td>357</td>\n",
       "      <td>1062</td>\n",
       "    </tr>\n",
       "  </tbody>\n",
       "</table>\n",
       "<p>208 rows × 7 columns</p>\n",
       "</div>"
      ],
      "text/plain": [
       "    RANK THIS WEEK RANK LAST WEEK        PLAYER NAME  ROUNDS      %  \\\n",
       "0                1              2        Ian Poulter      68  44.36   \n",
       "1                2              1       Patrick Reed      69  44.28   \n",
       "2                3              3      Cameron Smith      73  44.02   \n",
       "3                4              5           Tom Hoge      86  43.12   \n",
       "4                5              7     Anirban Lahiri      60  42.96   \n",
       "..             ...            ...                ...     ...    ...   \n",
       "203            204            203    Joseph Bramlett      74  34.88   \n",
       "204            205            204    Matthew NeSmith      84  34.76   \n",
       "205            206            206      Kevin Stadler      41  34.62   \n",
       "206            207            207  Michael Gellerman      43  34.01   \n",
       "207            208            208      Cameron Champ      63  33.62   \n",
       "\n",
       "     # OF 1 PUTTS  # OF HOLES  \n",
       "0             511        1152  \n",
       "1             526        1188  \n",
       "2             523        1188  \n",
       "3             652        1512  \n",
       "4             464        1080  \n",
       "..            ...         ...  \n",
       "203           452        1296  \n",
       "204           513        1476  \n",
       "205           243         702  \n",
       "206           251         738  \n",
       "207           357        1062  \n",
       "\n",
       "[208 rows x 7 columns]"
      ]
     },
     "execution_count": 10,
     "metadata": {},
     "output_type": "execute_result"
    }
   ],
   "source": [
    "cat = pga_data.scrape.stat(stat='One-Putt Percentage')\n",
    "df=cat.pull()\n",
    "\n",
    "print(cat.stat)\n",
    "df"
   ]
  }
 ],
 "metadata": {
  "kernelspec": {
   "display_name": "Python 3",
   "language": "python",
   "name": "python3"
  },
  "language_info": {
   "codemirror_mode": {
    "name": "ipython",
    "version": 3
   },
   "file_extension": ".py",
   "mimetype": "text/x-python",
   "name": "python",
   "nbconvert_exporter": "python",
   "pygments_lexer": "ipython3",
   "version": "3.8.8"
  }
 },
 "nbformat": 4,
 "nbformat_minor": 4
}

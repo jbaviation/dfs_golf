{
 "cells": [
  {
   "cell_type": "markdown",
   "metadata": {},
   "source": [
    "# PGA Tour Data Retrieval\n",
    "This notebook is for working with PGA_Data folder for retreiving revelant PGA Tour data that has been webscraped from [pgatour.com](https://www.pgatour.com/)."
   ]
  },
  {
   "cell_type": "code",
   "execution_count": 91,
   "metadata": {},
   "outputs": [
    {
     "data": {
      "text/plain": [
       "<module 'pga_data.scrape' from 'c:\\\\Users\\\\jborman\\\\Documents\\\\Python\\\\dfs_golf\\\\pga_data\\\\scrape.py'>"
      ]
     },
     "execution_count": 91,
     "metadata": {},
     "output_type": "execute_result"
    }
   ],
   "source": [
    "# General libraries\n",
    "import pandas as pd\n",
    "import numpy as np\n",
    "from importlib import reload\n",
    "import difflib\n",
    "\n",
    "from bs4 import BeautifulSoup\n",
    "import requests\n",
    "import re\n",
    "import json\n",
    "import time\n",
    "\n",
    "# Self made libraries\n",
    "import pga_data.scrape\n",
    "import pga_data.mapping\n",
    "\n",
    "# Reload libraries\n",
    "reload(pga_data.mapping)\n",
    "reload(pga_data.scrape)"
   ]
  },
  {
   "cell_type": "markdown",
   "metadata": {},
   "source": [
    "## Read the mapping to load json data"
   ]
  },
  {
   "cell_type": "code",
   "execution_count": 2,
   "metadata": {},
   "outputs": [],
   "source": [
    "m = pga_data.mapping.mapping()"
   ]
  },
  {
   "cell_type": "markdown",
   "metadata": {},
   "source": [
    "## Find Specific Player Stats\n",
    "Webscrape to perform this task"
   ]
  },
  {
   "cell_type": "code",
   "execution_count": 3,
   "metadata": {},
   "outputs": [
    {
     "data": {
      "text/plain": [
       "{'stat name': 'SG: Off the Tee',\n",
       " 'stat id': '02567',\n",
       " 'stat category': 'Shots Gained',\n",
       " 'years': [2004,\n",
       "  2005,\n",
       "  2006,\n",
       "  2007,\n",
       "  2008,\n",
       "  2009,\n",
       "  2010,\n",
       "  2011,\n",
       "  2012,\n",
       "  2013,\n",
       "  2014,\n",
       "  2015,\n",
       "  2016,\n",
       "  2017,\n",
       "  2018,\n",
       "  2019,\n",
       "  2020,\n",
       "  2021],\n",
       " 'tournament option': True}"
      ]
     },
     "execution_count": 3,
     "metadata": {},
     "output_type": "execute_result"
    }
   ],
   "source": [
    "# Loop thru all players\n",
    "# Find their tour options and seasons\n",
    "# Find their courses played\n",
    "# Personal stats (ie Height, Weight, Age, etc)\n",
    "\n",
    "m.player_meta[:3]\n",
    "m.stat_meta[2]\n",
    "# m.tourney_meta.keys()\n"
   ]
  },
  {
   "cell_type": "code",
   "execution_count": 95,
   "metadata": {},
   "outputs": [
    {
     "name": "stdout",
     "output_type": "stream",
     "text": [
      "data successfully pulled!\n",
      "data successfully pulled!\n",
      "data successfully pulled!\n",
      "data successfully pulled!\n"
     ]
    }
   ],
   "source": [
    "# ['SG: Total',\n",
    "#  'SG: Tee to Green',\n",
    "#  'SG: Off the Tee',\n",
    "#  'SG: Approach the Green',\n",
    "#  'SG: Around the Green',\n",
    "#  'SG: Putting']\n",
    "\n",
    "# driving distance\n",
    "st = pga_data.scrape.stat('driving distance')\n",
    "st.pull()\n",
    "distance = st.data.rename({'avg':'distance'}, axis=1)\n",
    "\n",
    "# shots gained ott\n",
    "st = pga_data.scrape.stat('SG: Off the Tee')\n",
    "st.pull()\n",
    "sg_ott = st.data.rename({'avg':'sg_ott'}, axis=1)\n",
    "\n",
    "# Driving Accuracy Percentage\n",
    "st = pga_data.scrape.stat('Driving Accuracy Percentage')\n",
    "st.pull()\n",
    "accuracy = st.data.rename({'pct':'fw_hit'}, axis=1)\n",
    "\n",
    "# smash factor\n",
    "st = pga_data.scrape.stat('smash factor')\n",
    "st.pull()\n",
    "smash_factor = st.data.rename({'avg':'smash'},axis=1)"
   ]
  },
  {
   "cell_type": "code",
   "execution_count": 103,
   "metadata": {},
   "outputs": [
    {
     "data": {
      "text/plain": [
       "rank_this_week_dis                1\n",
       "rank_last_week_dis                1\n",
       "player_name           Cameron Champ\n",
       "rounds_dis                       42\n",
       "distance                      322.6\n",
       "total_distance                27102\n",
       "total_drives                     84\n",
       "rank_this_week_sg                 9\n",
       "rank_last_week_sg                10\n",
       "rounds_sg                        42\n",
       "sg_ott                         0.69\n",
       "total_sg_ott                 22.772\n",
       "measured_rounds                  33\n",
       "rank_this_week_fw              T140\n",
       "rank_last_week_fw               142\n",
       "rounds_fw                        42\n",
       "fw_hit                        57.49\n",
       "fairways_hit                    334\n",
       "possible_fairways               581\n",
       "rank_this_week_sf                T8\n",
       "rank_last_week_sf               T12\n",
       "rounds_sf                        42\n",
       "smash                         1.511\n",
       "total_smash_factor          114.845\n",
       "total_attempts                   76\n",
       "highest_value                 1.534\n",
       "lowest_value                  1.455\n",
       "Name: 0, dtype: object"
      ]
     },
     "execution_count": 103,
     "metadata": {},
     "output_type": "execute_result"
    }
   ],
   "source": [
    "import seaborn as sns\n",
    "import matplotlib.pyplot as plt\n",
    "import re\n",
    "\n",
    "cols = ['player_name','distance','sg_ott','fw_hit','smash']\n",
    "sg_dis = distance.merge(sg_ott, on='player_name', how='inner', suffixes=['_dis','_sg'])\n",
    "sg_dis = sg_dis.merge(accuracy, on='player_name', how='left')\n",
    "sg_dis = sg_dis.merge(smash_factor, on='player_name', how='left', suffixes=['_fw','_sf'])\n",
    "# sg_dis = sg_dis[cols]\n",
    "\n",
    "# _=sns.scatterplot(data=sg_dis, x='RANK_LAST_WEEK_dis', y='RANK_LAST_WEEK_sg')\n",
    "# sg_dis.describe()\n",
    "# sg_dis.sort_values('sg_ott',ascending=False).tail(20)\n",
    "sg_dis.iloc[0,:]"
   ]
  },
  {
   "cell_type": "markdown",
   "metadata": {},
   "source": [
    "## Make Meta Json Files"
   ]
  },
  {
   "cell_type": "code",
   "execution_count": 7,
   "metadata": {},
   "outputs": [],
   "source": [
    "reload(pga_data.mapping)\n",
    "reload(pga_data.scrape)\n",
    "\n",
    "mm = pga_data.mapping.make_meta()\n"
   ]
  },
  {
   "cell_type": "code",
   "execution_count": 8,
   "metadata": {},
   "outputs": [],
   "source": [
    "import json\n",
    "with open('pga_data/data_files/stat_meta.json') as f:\n",
    "    stats = json.load(f)"
   ]
  },
  {
   "cell_type": "code",
   "execution_count": 36,
   "metadata": {},
   "outputs": [
    {
     "name": "stdout",
     "output_type": "stream",
     "text": [
      "['Driving Distance', 'Longest Drives', 'Driving Percentage 320+', 'Driving Percentage 300-320', 'Driving Percentage 300+', 'Driving Percentage 280-300', 'Driving Percentage 260-280', 'Driving Percentage 240-260', 'Driving Percentage <=240', 'Percentage of Yardage Covered by Tee Shots', 'Percentage of Yardage Covered by Tee Shots Par 4s', 'Percentage of Yardage Covered by Tee Shots Par 5s', 'Driving Accuracy Percentage', 'Rough Tendency', 'Left Rough Tendency', 'Right Rough Tendency', 'Left Rough Tendency (RTP Score)', 'Right Rough Tendency (RTP Score)', 'Fairway Bunker Tendency', 'Missed Fairway Percentage']\n",
      "['Hit Fairway Percentage', 'Distance From Edge of Fairway', 'Distance From Center of Fairway', 'Left Tendency', 'Right Tendency', 'Good Drive Percentage', 'Total Driving', 'Ball Striking', 'Club Head Speed', 'Ball Speed', 'Smash Factor', 'Launch Angle', 'Spin Rate', 'Distance to Apex', 'Apex Height', 'Hang Time', 'Carry Distance', 'Carry Efficiency', 'Total Distance Efficiency', 'Total Driving Efficiency']\n"
     ]
    }
   ],
   "source": [
    "print([d['stat name'] for d in stats if d['stat category']=='Off the Tee'][:20])\n",
    "print([d['stat name'] for d in stats if d['stat category']=='Off the Tee'][-20:])\n",
    "# set([d['stat category'] for d in stats])"
   ]
  },
  {
   "cell_type": "markdown",
   "metadata": {},
   "source": [
    "## Practice With SQL\n"
   ]
  },
  {
   "cell_type": "markdown",
   "metadata": {},
   "source": []
  }
 ],
 "metadata": {
  "kernelspec": {
   "display_name": "Python 3.8.6 ('dfs_golf-MbJKp3jl')",
   "language": "python",
   "name": "python3"
  },
  "language_info": {
   "codemirror_mode": {
    "name": "ipython",
    "version": 3
   },
   "file_extension": ".py",
   "mimetype": "text/x-python",
   "name": "python",
   "nbconvert_exporter": "python",
   "pygments_lexer": "ipython3",
   "version": "3.8.6"
  },
  "vscode": {
   "interpreter": {
    "hash": "2773a2307a692cac2081d34a72b8de3d869958c67685adf9d925acae3dc3138f"
   }
  }
 },
 "nbformat": 4,
 "nbformat_minor": 4
}

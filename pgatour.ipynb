{
 "cells": [
  {
   "cell_type": "markdown",
   "metadata": {},
   "source": [
    "# PGA Tour Data Retrieval\n",
    "This notebook is for working with PGA_Data folder for retreiving revelant PGA Tour data that has been webscraped from [pgatour.com](https://www.pgatour.com/)."
   ]
  },
  {
   "cell_type": "code",
   "execution_count": 40,
   "metadata": {},
   "outputs": [
    {
     "data": {
      "text/plain": [
       "<module 'pga_data.scrape' from 'C:\\\\Users\\\\jborman\\\\Documents\\\\Python\\\\dfs_golf\\\\pga_data\\\\scrape.py'>"
      ]
     },
     "execution_count": 40,
     "metadata": {},
     "output_type": "execute_result"
    }
   ],
   "source": [
    "# General libraries\n",
    "import pandas as pd\n",
    "import numpy as np\n",
    "from importlib import reload\n",
    "import difflib\n",
    "\n",
    "# Self made libraries\n",
    "import pga_data.scrape\n",
    "import pga_data.mapping\n",
    "\n",
    "# Reload libraries\n",
    "reload(pga_data.mapping)\n",
    "reload(pga_data.scrape)"
   ]
  },
  {
   "cell_type": "code",
   "execution_count": 48,
   "metadata": {},
   "outputs": [
    {
     "data": {
      "text/plain": [
       "{'Driving Distance': '101',\n",
       " 'Driving Percentage 320+': '496',\n",
       " 'Driving Percentage 300-320': '495',\n",
       " 'Driving Percentage 300+': '454',\n",
       " 'Driving Percentage 280-300': '455',\n",
       " 'Driving Percentage 260-280': '456',\n",
       " 'Driving Percentage 240-260': '457',\n",
       " 'Driving Percentage <=240': '458',\n",
       " 'Driving Accuracy Percentage': '102',\n",
       " 'Total Driving': '129',\n",
       " 'Total Driving Efficiency': '02412'}"
      ]
     },
     "execution_count": 48,
     "metadata": {},
     "output_type": "execute_result"
    }
   ],
   "source": [
    "pga_data.mapping.list_stats_from_keyword('driving')"
   ]
  },
  {
   "cell_type": "code",
   "execution_count": 49,
   "metadata": {},
   "outputs": [
    {
     "name": "stdout",
     "output_type": "stream",
     "text": [
      "Total Driving\n"
     ]
    },
    {
     "data": {
      "text/html": [
       "<div>\n",
       "<style scoped>\n",
       "    .dataframe tbody tr th:only-of-type {\n",
       "        vertical-align: middle;\n",
       "    }\n",
       "\n",
       "    .dataframe tbody tr th {\n",
       "        vertical-align: top;\n",
       "    }\n",
       "\n",
       "    .dataframe thead th {\n",
       "        text-align: right;\n",
       "    }\n",
       "</style>\n",
       "<table border=\"1\" class=\"dataframe\">\n",
       "  <thead>\n",
       "    <tr style=\"text-align: right;\">\n",
       "      <th></th>\n",
       "      <th>RANK THIS WEEK</th>\n",
       "      <th>RANK LAST WEEK</th>\n",
       "      <th>PLAYER NAME</th>\n",
       "      <th>EVENTS</th>\n",
       "      <th>TOTAL</th>\n",
       "      <th>DISTANCE RANK</th>\n",
       "      <th>ACCURACY RANK</th>\n",
       "    </tr>\n",
       "  </thead>\n",
       "  <tbody>\n",
       "    <tr>\n",
       "      <th>0</th>\n",
       "      <td>1</td>\n",
       "      <td>T1</td>\n",
       "      <td>Scottie Scheffler</td>\n",
       "      <td>25</td>\n",
       "      <td>83</td>\n",
       "      <td>33</td>\n",
       "      <td>50</td>\n",
       "    </tr>\n",
       "    <tr>\n",
       "      <th>1</th>\n",
       "      <td>2</td>\n",
       "      <td>T1</td>\n",
       "      <td>Jon Rahm</td>\n",
       "      <td>19</td>\n",
       "      <td>85</td>\n",
       "      <td>20</td>\n",
       "      <td>65</td>\n",
       "    </tr>\n",
       "    <tr>\n",
       "      <th>2</th>\n",
       "      <td>3</td>\n",
       "      <td>3</td>\n",
       "      <td>Keegan Bradley</td>\n",
       "      <td>24</td>\n",
       "      <td>107</td>\n",
       "      <td>62</td>\n",
       "      <td>45</td>\n",
       "    </tr>\n",
       "    <tr>\n",
       "      <th>3</th>\n",
       "      <td>4</td>\n",
       "      <td>T6</td>\n",
       "      <td>Sungjae Im</td>\n",
       "      <td>30</td>\n",
       "      <td>115</td>\n",
       "      <td>101</td>\n",
       "      <td>14</td>\n",
       "    </tr>\n",
       "    <tr>\n",
       "      <th>4</th>\n",
       "      <td>T5</td>\n",
       "      <td>4</td>\n",
       "      <td>Jason Kokrak</td>\n",
       "      <td>22</td>\n",
       "      <td>119</td>\n",
       "      <td>22</td>\n",
       "      <td>97</td>\n",
       "    </tr>\n",
       "    <tr>\n",
       "      <th>...</th>\n",
       "      <td>...</td>\n",
       "      <td>...</td>\n",
       "      <td>...</td>\n",
       "      <td>...</td>\n",
       "      <td>...</td>\n",
       "      <td>...</td>\n",
       "      <td>...</td>\n",
       "    </tr>\n",
       "    <tr>\n",
       "      <th>203</th>\n",
       "      <td>204</td>\n",
       "      <td>NaN</td>\n",
       "      <td>Jonathan Byrd</td>\n",
       "      <td>13</td>\n",
       "      <td>340</td>\n",
       "      <td>182</td>\n",
       "      <td>158</td>\n",
       "    </tr>\n",
       "    <tr>\n",
       "      <th>204</th>\n",
       "      <td>T205</td>\n",
       "      <td>204</td>\n",
       "      <td>Ted Potter, Jr.</td>\n",
       "      <td>23</td>\n",
       "      <td>341</td>\n",
       "      <td>175</td>\n",
       "      <td>166</td>\n",
       "    </tr>\n",
       "    <tr>\n",
       "      <th>205</th>\n",
       "      <td>T205</td>\n",
       "      <td>206</td>\n",
       "      <td>Kevin Stadler</td>\n",
       "      <td>19</td>\n",
       "      <td>341</td>\n",
       "      <td>197</td>\n",
       "      <td>144</td>\n",
       "    </tr>\n",
       "    <tr>\n",
       "      <th>206</th>\n",
       "      <td>207</td>\n",
       "      <td>205</td>\n",
       "      <td>Aaron Baddeley</td>\n",
       "      <td>19</td>\n",
       "      <td>345</td>\n",
       "      <td>178</td>\n",
       "      <td>167</td>\n",
       "    </tr>\n",
       "    <tr>\n",
       "      <th>207</th>\n",
       "      <td>208</td>\n",
       "      <td>208</td>\n",
       "      <td>Rhein Gibson</td>\n",
       "      <td>20</td>\n",
       "      <td>351</td>\n",
       "      <td>157</td>\n",
       "      <td>194</td>\n",
       "    </tr>\n",
       "  </tbody>\n",
       "</table>\n",
       "<p>208 rows × 7 columns</p>\n",
       "</div>"
      ],
      "text/plain": [
       "    RANK THIS WEEK RANK LAST WEEK        PLAYER NAME  EVENTS  TOTAL  \\\n",
       "0                1             T1  Scottie Scheffler      25     83   \n",
       "1                2             T1           Jon Rahm      19     85   \n",
       "2                3              3     Keegan Bradley      24    107   \n",
       "3                4             T6         Sungjae Im      30    115   \n",
       "4               T5              4       Jason Kokrak      22    119   \n",
       "..             ...            ...                ...     ...    ...   \n",
       "203            204            NaN      Jonathan Byrd      13    340   \n",
       "204           T205            204    Ted Potter, Jr.      23    341   \n",
       "205           T205            206      Kevin Stadler      19    341   \n",
       "206            207            205     Aaron Baddeley      19    345   \n",
       "207            208            208       Rhein Gibson      20    351   \n",
       "\n",
       "     DISTANCE RANK  ACCURACY RANK  \n",
       "0               33             50  \n",
       "1               20             65  \n",
       "2               62             45  \n",
       "3              101             14  \n",
       "4               22             97  \n",
       "..             ...            ...  \n",
       "203            182            158  \n",
       "204            175            166  \n",
       "205            197            144  \n",
       "206            178            167  \n",
       "207            157            194  \n",
       "\n",
       "[208 rows x 7 columns]"
      ]
     },
     "execution_count": 49,
     "metadata": {},
     "output_type": "execute_result"
    }
   ],
   "source": [
    "cat = pga_data.scrape.stat(stat_id='129')\n",
    "df=cat.pull()\n",
    "\n",
    "print(cat.stat)\n",
    "df"
   ]
  }
 ],
 "metadata": {
  "kernelspec": {
   "display_name": "Python 3",
   "language": "python",
   "name": "python3"
  },
  "language_info": {
   "codemirror_mode": {
    "name": "ipython",
    "version": 3
   },
   "file_extension": ".py",
   "mimetype": "text/x-python",
   "name": "python",
   "nbconvert_exporter": "python",
   "pygments_lexer": "ipython3",
   "version": "3.8.8"
  }
 },
 "nbformat": 4,
 "nbformat_minor": 4
}

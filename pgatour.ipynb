{
 "cells": [
  {
   "cell_type": "markdown",
   "metadata": {},
   "source": [
    "# PGA Tour Data Retrieval\n",
    "This notebook is for working with PGA_Data folder for retreiving revelant PGA Tour data that has been webscraped from [pgatour.com](https://www.pgatour.com/)."
   ]
  },
  {
   "cell_type": "code",
   "execution_count": 1,
   "metadata": {},
   "outputs": [
    {
     "data": {
      "text/plain": [
       "<module 'pga_data.scrape' from 'c:\\\\Users\\\\jborman\\\\Documents\\\\Python\\\\dfs_golf\\\\pga_data\\\\scrape.py'>"
      ]
     },
     "execution_count": 1,
     "metadata": {},
     "output_type": "execute_result"
    }
   ],
   "source": [
    "# General libraries\n",
    "import pandas as pd\n",
    "import numpy as np\n",
    "from importlib import reload\n",
    "import difflib\n",
    "\n",
    "from bs4 import BeautifulSoup\n",
    "import requests\n",
    "import re\n",
    "import json\n",
    "import time\n",
    "\n",
    "# Self made libraries\n",
    "import pga_data.scrape\n",
    "import pga_data.mapping\n",
    "\n",
    "# Reload libraries\n",
    "reload(pga_data.mapping)\n",
    "reload(pga_data.scrape)"
   ]
  },
  {
   "cell_type": "markdown",
   "metadata": {},
   "source": [
    "## Read the mapping to load json data"
   ]
  },
  {
   "cell_type": "code",
   "execution_count": 2,
   "metadata": {},
   "outputs": [],
   "source": [
    "m = pga_data.mapping.mapping()"
   ]
  },
  {
   "cell_type": "markdown",
   "metadata": {},
   "source": [
    "## Find Specific Player Stats\n",
    "Webscrape to perform this task"
   ]
  },
  {
   "cell_type": "code",
   "execution_count": 3,
   "metadata": {},
   "outputs": [
    {
     "data": {
      "text/plain": [
       "{'stat name': 'SG: Off the Tee',\n",
       " 'stat id': '02567',\n",
       " 'stat category': 'Shots Gained',\n",
       " 'years': [2004,\n",
       "  2005,\n",
       "  2006,\n",
       "  2007,\n",
       "  2008,\n",
       "  2009,\n",
       "  2010,\n",
       "  2011,\n",
       "  2012,\n",
       "  2013,\n",
       "  2014,\n",
       "  2015,\n",
       "  2016,\n",
       "  2017,\n",
       "  2018,\n",
       "  2019,\n",
       "  2020,\n",
       "  2021],\n",
       " 'tournament option': True}"
      ]
     },
     "execution_count": 3,
     "metadata": {},
     "output_type": "execute_result"
    }
   ],
   "source": [
    "# Loop thru all players\n",
    "# Find their tour options and seasons\n",
    "# Find their courses played\n",
    "# Personal stats (ie Height, Weight, Age, etc)\n",
    "\n",
    "m.player_meta[:3]\n",
    "m.stat_meta[2]\n",
    "# m.tourney_meta.keys()\n"
   ]
  },
  {
   "cell_type": "markdown",
   "metadata": {},
   "source": [
    "## Evaluate Driving Statistics and Correlations"
   ]
  },
  {
   "cell_type": "code",
   "execution_count": 3,
   "metadata": {},
   "outputs": [
    {
     "name": "stdout",
     "output_type": "stream",
     "text": [
      "data successfully pulled!\n",
      "data successfully pulled!\n",
      "data successfully pulled!\n",
      "data successfully pulled!\n"
     ]
    }
   ],
   "source": [
    "# ['SG: Total',\n",
    "#  'SG: Tee to Green',\n",
    "#  'SG: Off the Tee',\n",
    "#  'SG: Approach the Green',\n",
    "#  'SG: Around the Green',\n",
    "#  'SG: Putting']\n",
    "\n",
    "# driving distance\n",
    "st = pga_data.scrape.stat('driving distance')\n",
    "st.pull()\n",
    "distance = st.data.rename({'avg':'distance'}, axis=1)\n",
    "\n",
    "# shots gained ott\n",
    "st = pga_data.scrape.stat('SG: Off the Tee')\n",
    "st.pull()\n",
    "sg_ott = st.data.rename({'avg':'sg_ott'}, axis=1)\n",
    "\n",
    "# Driving Accuracy Percentage\n",
    "st = pga_data.scrape.stat('Driving Accuracy Percentage')\n",
    "st.pull()\n",
    "accuracy = st.data.rename({'pct':'fw_hit'}, axis=1)\n",
    "\n",
    "# smash factor\n",
    "st = pga_data.scrape.stat('smash factor')\n",
    "st.pull()\n",
    "smash_factor = st.data.rename({'avg':'smash'},axis=1)"
   ]
  },
  {
   "cell_type": "code",
   "execution_count": 9,
   "metadata": {},
   "outputs": [
    {
     "data": {
      "text/html": [
       "<div>\n",
       "<style scoped>\n",
       "    .dataframe tbody tr th:only-of-type {\n",
       "        vertical-align: middle;\n",
       "    }\n",
       "\n",
       "    .dataframe tbody tr th {\n",
       "        vertical-align: top;\n",
       "    }\n",
       "\n",
       "    .dataframe thead th {\n",
       "        text-align: right;\n",
       "    }\n",
       "</style>\n",
       "<table border=\"1\" class=\"dataframe\">\n",
       "  <thead>\n",
       "    <tr style=\"text-align: right;\">\n",
       "      <th></th>\n",
       "      <th>rank_dis</th>\n",
       "      <th>rank_sg</th>\n",
       "      <th>rank_fw</th>\n",
       "      <th>rank_sf</th>\n",
       "    </tr>\n",
       "  </thead>\n",
       "  <tbody>\n",
       "    <tr>\n",
       "      <th>rank_dis</th>\n",
       "      <td>1.000000</td>\n",
       "      <td>0.531106</td>\n",
       "      <td>-0.540061</td>\n",
       "      <td>0.119338</td>\n",
       "    </tr>\n",
       "    <tr>\n",
       "      <th>rank_sg</th>\n",
       "      <td>0.531106</td>\n",
       "      <td>1.000000</td>\n",
       "      <td>0.229910</td>\n",
       "      <td>0.215795</td>\n",
       "    </tr>\n",
       "    <tr>\n",
       "      <th>rank_fw</th>\n",
       "      <td>-0.540061</td>\n",
       "      <td>0.229910</td>\n",
       "      <td>1.000000</td>\n",
       "      <td>0.037184</td>\n",
       "    </tr>\n",
       "    <tr>\n",
       "      <th>rank_sf</th>\n",
       "      <td>0.119338</td>\n",
       "      <td>0.215795</td>\n",
       "      <td>0.037184</td>\n",
       "      <td>1.000000</td>\n",
       "    </tr>\n",
       "  </tbody>\n",
       "</table>\n",
       "</div>"
      ],
      "text/plain": [
       "          rank_dis   rank_sg   rank_fw   rank_sf\n",
       "rank_dis  1.000000  0.531106 -0.540061  0.119338\n",
       "rank_sg   0.531106  1.000000  0.229910  0.215795\n",
       "rank_fw  -0.540061  0.229910  1.000000  0.037184\n",
       "rank_sf   0.119338  0.215795  0.037184  1.000000"
      ]
     },
     "execution_count": 9,
     "metadata": {},
     "output_type": "execute_result"
    },
    {
     "data": {
      "image/png": "[encoded data removed]",
      "text/plain": [
       "<Figure size 360x360 with 1 Axes>"
      ]
     },
     "metadata": {
      "needs_background": "light"
     },
     "output_type": "display_data"
    }
   ],
   "source": [
    "import seaborn as sns\n",
    "import matplotlib.pyplot as plt\n",
    "import re\n",
    "\n",
    "sg_dis = distance.merge(sg_ott, on='player_name', how='inner', suffixes=['_dis','_sg'])\n",
    "sg_dis = sg_dis.merge(accuracy, on='player_name', how='left')\n",
    "sg_dis = sg_dis.merge(smash_factor, on='player_name', how='left', suffixes=['_fw','_sf'])\n",
    "\n",
    "# cols = ['player_name','distance','sg_ott','fw_hit','smash']\n",
    "cols = [col for col in sg_dis.columns if 'rank_' in col]\n",
    "sg_dis = sg_dis[cols].astype('float')\n",
    "\n",
    "sns.lmplot(data=sg_dis, x='rank_dis', y='rank_sg')\n",
    "plt.title('Correlation of SG:OTT to Average Driving Distance')\n",
    "plt.xlabel('Rank Driving Distance')\n",
    "plt.ylabel('Rank Shots Gained: Off-the-Tee')\n",
    "sg_dis.corr()"
   ]
  },
  {
   "cell_type": "code",
   "execution_count": 11,
   "metadata": {},
   "outputs": [
    {
     "name": "stdout",
     "output_type": "stream",
     "text": [
      "                            OLS Regression Results                            \n",
      "==============================================================================\n",
      "Dep. Variable:                rank_sg   R-squared:                       0.665\n",
      "Model:                            OLS   Adj. R-squared:                  0.660\n",
      "Method:                 Least Squares   F-statistic:                     131.2\n",
      "Date:                Tue, 21 Jun 2022   Prob (F-statistic):           7.92e-47\n",
      "Time:                        17:01:03   Log-Likelihood:                -997.32\n",
      "No. Observations:                 202   AIC:                             2003.\n",
      "Df Residuals:                     198   BIC:                             2016.\n",
      "Df Model:                           3                                         \n",
      "Covariance Type:            nonrobust                                         \n",
      "==============================================================================\n",
      "                 coef    std err          t      P>|t|      [0.025      0.975]\n",
      "------------------------------------------------------------------------------\n",
      "Intercept    -71.3576      9.380     -7.607      0.000     -89.856     -52.859\n",
      "rank_dis       0.9096      0.050     18.356      0.000       0.812       1.007\n",
      "rank_fw        0.7179      0.049     14.589      0.000       0.621       0.815\n",
      "rank_sf        0.0791      0.041      1.932      0.055      -0.002       0.160\n",
      "==============================================================================\n",
      "Omnibus:                        4.088   Durbin-Watson:                   1.845\n",
      "Prob(Omnibus):                  0.129   Jarque-Bera (JB):                3.074\n",
      "Skew:                           0.167   Prob(JB):                        0.215\n",
      "Kurtosis:                       2.497   Cond. No.                         709.\n",
      "==============================================================================\n",
      "\n",
      "Notes:\n",
      "[1] Standard Errors assume that the covariance matrix of the errors is correctly specified.\n"
     ]
    }
   ],
   "source": [
    "import statsmodels.formula.api as sm\n",
    "\n",
    "reg = sm.ols(formula='rank_sg ~ rank_dis + rank_fw + rank_sf', data=sg_dis).fit()\n",
    "print(reg.summary())"
   ]
  },
  {
   "cell_type": "markdown",
   "metadata": {},
   "source": [
    "## Make Meta Json Files"
   ]
  },
  {
   "cell_type": "code",
   "execution_count": 7,
   "metadata": {},
   "outputs": [],
   "source": [
    "reload(pga_data.mapping)\n",
    "reload(pga_data.scrape)\n",
    "\n",
    "mm = pga_data.mapping.make_meta()\n"
   ]
  },
  {
   "cell_type": "code",
   "execution_count": 8,
   "metadata": {},
   "outputs": [],
   "source": [
    "import json\n",
    "with open('pga_data/data_files/stat_meta.json') as f:\n",
    "    stats = json.load(f)"
   ]
  },
  {
   "cell_type": "code",
   "execution_count": 36,
   "metadata": {},
   "outputs": [
    {
     "name": "stdout",
     "output_type": "stream",
     "text": [
      "['Driving Distance', 'Longest Drives', 'Driving Percentage 320+', 'Driving Percentage 300-320', 'Driving Percentage 300+', 'Driving Percentage 280-300', 'Driving Percentage 260-280', 'Driving Percentage 240-260', 'Driving Percentage <=240', 'Percentage of Yardage Covered by Tee Shots', 'Percentage of Yardage Covered by Tee Shots Par 4s', 'Percentage of Yardage Covered by Tee Shots Par 5s', 'Driving Accuracy Percentage', 'Rough Tendency', 'Left Rough Tendency', 'Right Rough Tendency', 'Left Rough Tendency (RTP Score)', 'Right Rough Tendency (RTP Score)', 'Fairway Bunker Tendency', 'Missed Fairway Percentage']\n",
      "['Hit Fairway Percentage', 'Distance From Edge of Fairway', 'Distance From Center of Fairway', 'Left Tendency', 'Right Tendency', 'Good Drive Percentage', 'Total Driving', 'Ball Striking', 'Club Head Speed', 'Ball Speed', 'Smash Factor', 'Launch Angle', 'Spin Rate', 'Distance to Apex', 'Apex Height', 'Hang Time', 'Carry Distance', 'Carry Efficiency', 'Total Distance Efficiency', 'Total Driving Efficiency']\n"
     ]
    }
   ],
   "source": [
    "print([d['stat name'] for d in stats if d['stat category']=='Off the Tee'][:20])\n",
    "print([d['stat name'] for d in stats if d['stat category']=='Off the Tee'][-20:])\n",
    "# set([d['stat category'] for d in stats])"
   ]
  },
  {
   "cell_type": "markdown",
   "metadata": {},
   "source": [
    "## Practice With SQL\n"
   ]
  },
  {
   "cell_type": "markdown",
   "metadata": {},
   "source": []
  }
 ],
 "metadata": {
  "kernelspec": {
   "display_name": "Python 3.8.6 ('dfs_golf-MbJKp3jl')",
   "language": "python",
   "name": "python3"
  },
  "language_info": {
   "codemirror_mode": {
    "name": "ipython",
    "version": 3
   },
   "file_extension": ".py",
   "mimetype": "text/x-python",
   "name": "python",
   "nbconvert_exporter": "python",
   "pygments_lexer": "ipython3",
   "version": "3.8.6"
  },
  "vscode": {
   "interpreter": {
    "hash": "2773a2307a692cac2081d34a72b8de3d869958c67685adf9d925acae3dc3138f"
   }
  }
 },
 "nbformat": 4,
 "nbformat_minor": 4
}

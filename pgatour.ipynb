{
 "cells": [
  {
   "cell_type": "markdown",
   "metadata": {},
   "source": [
    "# PGA Tour Data Retrieval\n",
    "This notebook is for working with PGA_Data folder for retreiving revelant PGA Tour data that has been webscraped from [pgatour.com](https://www.pgatour.com/)."
   ]
  },
  {
   "cell_type": "code",
   "execution_count": null,
   "metadata": {},
   "outputs": [],
   "source": [
    "# General libraries\r\n",
    "import pandas as pd\r\n",
    "import numpy as np\r\n",
    "from importlib import reload\r\n",
    "import difflib\r\n",
    "\r\n",
    "from bs4 import BeautifulSoup\r\n",
    "import requests\r\n",
    "import re\r\n",
    "import json\r\n",
    "import time\r\n",
    "\r\n",
    "# Self made libraries\r\n",
    "import pga_data.scrape\r\n",
    "import pga_data.mapping\r\n",
    "\r\n",
    "# Reload libraries\r\n",
    "reload(pga_data.mapping)\r\n",
    "reload(pga_data.scrape)"
   ]
  },
  {
   "cell_type": "markdown",
   "metadata": {},
   "source": [
    "## Read the mapping to load json data"
   ]
  },
  {
   "cell_type": "code",
   "execution_count": null,
   "metadata": {},
   "outputs": [],
   "source": [
    "m = pga_data.mapping.mapping()"
   ]
  },
  {
   "cell_type": "markdown",
   "metadata": {},
   "source": [
    "## Find Specific Player Stats\r\n",
    "Webscrape to perform this task"
   ]
  },
  {
   "cell_type": "code",
   "execution_count": null,
   "metadata": {},
   "outputs": [],
   "source": [
    "# Loop thru all players\r\n",
    "# Find their tour options and seasons\r\n",
    "# Find their courses played\r\n",
    "# Personal stats (ie Height, Weight, Age, etc)\r\n",
    "m.player_meta"
   ]
  },
  {
   "cell_type": "markdown",
   "metadata": {},
   "source": [
    "## Practice With SQL\r\n"
   ]
  },
  {
   "cell_type": "markdown",
   "metadata": {},
   "source": []
  }
 ],
 "metadata": {
  "interpreter": {
   "hash": "6f92823b52587016c10638a6363508ab8e974a694e5688212f9fbb7e2b8b5196"
  },
  "kernelspec": {
   "display_name": "Python 3",
   "language": "python",
   "name": "python3"
  },
  "language_info": {
   "codemirror_mode": {
    "name": "ipython",
    "version": 3
   },
   "file_extension": ".py",
   "mimetype": "text/x-python",
   "name": "python",
   "nbconvert_exporter": "python",
   "pygments_lexer": "ipython3",
   "version": "3.8.8"
  }
 },
 "nbformat": 4,
 "nbformat_minor": 4
}

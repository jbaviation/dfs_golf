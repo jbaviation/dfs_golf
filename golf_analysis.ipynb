{
 "cells": [
  {
   "cell_type": "markdown",
   "metadata": {},
   "source": [
    "# DFS Golf Analysis\n",
    "This program is meant to read from various sources and explore possibilities of modelling golfer performance at various PGA courses to make money on DraftKings or FanDuel.\n",
    "\n",
    "First import the necessary libraries:"
   ]
  },
  {
   "cell_type": "code",
   "execution_count": 1,
   "metadata": {},
   "outputs": [],
   "source": [
    "import pandas as pd\n",
    "import numpy as np\n",
    "\n",
    "# Input necessary setup variables\n",
    "engine = 'FanDuel'   # Enter FanDuel or DraftKings"
   ]
  },
  {
   "cell_type": "markdown",
   "metadata": {},
   "source": [
    "Pull data from [sportsdata.io](https://sportsdata.io/developers/api-documentation/golf#) and explore"
   ]
  },
  {
   "cell_type": "code",
   "execution_count": 2,
   "metadata": {},
   "outputs": [],
   "source": [
    "# Setup calls to data\n",
    "api = 'de4dc63e16ee485b9df3bb79146bdcc1'\n",
    "\n",
    "# Individual seasons\n",
    "def season_data(season):\n",
    "    return pd.read_json('https://api.sportsdata.io/golf/v2/json/Tournaments/{}?key={}'.format(str(season),api))\n",
    "\n",
    "# Individual players\n",
    "def player_data(player_id):\n",
    "    return pd.read_json('https://api.sportsdata.io/golf/v2/json/Player/{}?key={}'.format(str(player_id),api))\n",
    "\n",
    "# All players\n",
    "def all_players_data():\n",
    "    players = pd.read_json('https://api.sportsdata.io/golf/v2/json/Players?key={}'.format(api)).replace({None: np.nan})\n",
    "    players = players[players['DraftKingsName'].notnull() & players['FanDuelName'].notnull()]  # strip out the nulls\n",
    "    for col in players.select_dtypes(include=np.float).columns:\n",
    "        players[col] = players[col].astype(pd.Int32Dtype())  # convert float columns to ints\n",
    "\n",
    "    cols_to_drop = ['FantasyAlarmPlayerID','FantasyDraftName','FantasyDraftPlayerID','PhotoUrl',\n",
    "                    'RotoWirePlayerID', 'RotoworldPlayerID', 'SportRadarPlayerID', 'YahooPlayerID']\n",
    "    if engine.lower() == 'draftkings':\n",
    "        cols_to_drop.extend(['FanDuelName','FanDuelPlayerID'])\n",
    "        players = players.drop(cols_to_drop,axis=1).set_index('DraftKingsName')\n",
    "    elif engine.lower() == 'fanduel':\n",
    "        cols_to_drop.extend(['DraftKingsName','DraftKingsPlayerID'])\n",
    "        players = players.drop(cols_to_drop,axis=1).set_index('FanDuelName')\n",
    "    \n",
    "    return players\n",
    "    "
   ]
  },
  {
   "cell_type": "code",
   "execution_count": 3,
   "metadata": {},
   "outputs": [],
   "source": [
    "# Read and clean tournament list\n",
    "tourn = pd.read_json('https://api.sportsdata.io/golf/v2/json/Tournaments?key={}'.format(api)).replace({None: np.nan})\n",
    "col_order=['StartDate', 'StartDateTime', 'EndDate', 'City', 'State', 'Country', 'Location', 'ZipCode', 'TimeZone', 'Covered', 'Format',\n",
    "       'IsInProgress', 'IsOver', 'Name', 'Par', 'Purse', 'Rounds', 'TournamentID', 'Venue', 'Yards', 'Canceled']\n",
    "tourn.EndDate = pd.to_datetime(tourn.EndDate)\n",
    "\n",
    "\n",
    "# tourn_2019 = season_data(2019)"
   ]
  },
  {
   "cell_type": "code",
   "execution_count": null,
   "metadata": {},
   "outputs": [],
   "source": []
  },
  {
   "cell_type": "code",
   "execution_count": 23,
   "metadata": {},
   "outputs": [
    {
     "data": {
      "text/plain": [
       "array([nan, 'Quintana Roo, Mexico', 'New Providence, Bahamas',\n",
       "       'Saint Simons Island, GA', 'Augusta, GA', 'Houston, TX',\n",
       "       'Shanghai, China', 'Southampton Parish, Bermuda', 'Chiba, Japan',\n",
       "       'Jeju Island, South Korea', 'Las Vegas, NV', 'Jackson, MS',\n",
       "       'Kohler, WI', 'Punta Cana, Dominican Republic', 'Mamaroneck, NY',\n",
       "       'Napa, CA', 'Atlanta, GA', 'Olympia Fields, IL', 'Norton, MA',\n",
       "       'Greensboro, NC', 'San Francisco, CA', 'Memphis, TN',\n",
       "       'Truckee, CA', 'Saitama, Jpn', 'Blaine, MN', 'Dublin, OH',\n",
       "       'Sandwich, Kent, Eng', 'Nicholasville, KY', 'Silvis, IL',\n",
       "       'Detroit, MI', 'Cromwell, CT', 'Hilton Head, SC', 'Fort Worth, TX',\n",
       "       'Etobicoke, ON', 'Dallas, TX', 'Charlotte, NC', 'Avondale, LA',\n",
       "       'San Antonio, TX', 'Austin, TX', 'Palm Harbor, FL',\n",
       "       'Ponte Vedra Beach, FL', 'Orlando, FL', 'Palm Beach Gardens, FL',\n",
       "       'Mexico City, Mex', 'Rio Grande, Pur', 'Pacific Palisades, CA',\n",
       "       'Pebble Beach, CA', 'Scottsdale, AZ', 'San Diego, CA',\n",
       "       'La Quinta, CA', 'Honolulu, HI', 'Kapalua, Maui, HI', 'Naples, FL',\n",
       "       'Melbourne, Victoria, Aus', 'New Providence, Bah',\n",
       "       'Sea Island, GA', 'Playa del Carmen, Mex', 'Southampton, Ber',\n",
       "       'Shanghai, Chn', 'Chiba, Jpn', 'Jeju Island, Kor', 'Humble, TX',\n",
       "       'White Sulphur Springs, WV', 'Jersey City, NJ', 'Reno, NV',\n",
       "       'Portrush, Nir', 'Hamilton, ON, Can', 'Farmingdale, NY',\n",
       "       'Punta Cana, Dom', 'South Oakleigh, Victoria, Aus',\n",
       "       'Kuala Lumpur, Mas'], dtype=object)"
      ]
     },
     "execution_count": 23,
     "metadata": {},
     "output_type": "execute_result"
    }
   ],
   "source": [
    "# DataFrames from the above cell\n",
    "col_order=['StartDate', 'StartDateTime', 'EndDate', 'City', 'State', 'Country', 'Location', 'ZipCode', 'TimeZone', 'Covered', 'Format',\n",
    "       'IsInProgress', 'IsOver', 'Name', 'Par', 'Purse', 'Rounds', 'TournamentID', 'Venue', 'Yards', 'Canceled']\n",
    "tourn[col_order]\n",
    "\n",
    "tourn['Location'].str.unique()"
   ]
  },
  {
   "cell_type": "code",
   "execution_count": 5,
   "metadata": {},
   "outputs": [
    {
     "name": "stdout",
     "output_type": "stream",
     "text": [
      "\n",
      "INSTALLED VERSIONS\n",
      "------------------\n",
      "commit: None\n",
      "python: 3.7.3.final.0\n",
      "python-bits: 64\n",
      "OS: Windows\n",
      "OS-release: 10\n",
      "machine: AMD64\n",
      "processor: Intel64 Family 6 Model 78 Stepping 3, GenuineIntel\n",
      "byteorder: little\n",
      "LC_ALL: None\n",
      "LANG: None\n",
      "LOCALE: None.None\n",
      "\n",
      "pandas: 0.24.2\n",
      "pytest: 4.3.1\n",
      "pip: 19.0.3\n",
      "setuptools: 40.8.0\n",
      "Cython: 0.29.14\n",
      "numpy: 1.16.2\n",
      "scipy: 1.2.1\n",
      "pyarrow: None\n",
      "xarray: None\n",
      "IPython: 7.4.0\n",
      "sphinx: 1.8.5\n",
      "patsy: 0.5.1\n",
      "dateutil: 2.8.0\n",
      "pytz: 2018.9\n",
      "blosc: None\n",
      "bottleneck: 1.2.1\n",
      "tables: 3.5.1\n",
      "numexpr: 2.6.9\n",
      "feather: None\n",
      "matplotlib: 3.0.3\n",
      "openpyxl: 2.6.1\n",
      "xlrd: 1.2.0\n",
      "xlwt: 1.3.0\n",
      "xlsxwriter: 1.1.5\n",
      "lxml.etree: 4.3.2\n",
      "bs4: 4.7.1\n",
      "html5lib: 1.0.1\n",
      "sqlalchemy: 1.3.1\n",
      "pymysql: None\n",
      "psycopg2: None\n",
      "jinja2: 2.10\n",
      "s3fs: None\n",
      "fastparquet: None\n",
      "pandas_gbq: None\n",
      "pandas_datareader: None\n",
      "gcsfs: None\n"
     ]
    }
   ],
   "source": [
    "pd.show_versions()"
   ]
  }
 ],
 "metadata": {
  "kernelspec": {
   "display_name": "Python 3",
   "language": "python",
   "name": "python3"
  },
  "language_info": {
   "codemirror_mode": {
    "name": "ipython",
    "version": 3
   },
   "file_extension": ".py",
   "mimetype": "text/x-python",
   "name": "python",
   "nbconvert_exporter": "python",
   "pygments_lexer": "ipython3",
   "version": "3.7.3"
  }
 },
 "nbformat": 4,
 "nbformat_minor": 2
}

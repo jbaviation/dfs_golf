{
 "cells": [
  {
   "cell_type": "code",
   "execution_count": 17,
   "metadata": {},
   "outputs": [],
   "source": [
    "import selenium\n",
    "from bs4 import BeautifulSoup\n",
    "from selenium import webdriver\n",
    "from selenium.webdriver.common.by import By\n",
    "from selenium.webdriver.support.ui import Select\n",
    "from selenium.webdriver.support.ui import WebDriverWait\n",
    "from selenium.webdriver.support import expected_conditions\n",
    "from selenium.webdriver.chrome.service import Service\n",
    "from selenium.common.exceptions import NoSuchElementException\n",
    "\n",
    "driver_loc='/opt/homebrew/bin/chromedriver'"
   ]
  },
  {
   "cell_type": "code",
   "execution_count": 20,
   "metadata": {},
   "outputs": [],
   "source": [
    "base_url = 'https://www.pgatour.com/schedule'\n",
    "season = '2018-2019'\n",
    "\n",
    "# Initiate webdriver\n",
    "s = Service(driver_loc)\n",
    "driver = webdriver.Chrome(service=s)\n",
    "driver.get(base_url)\n",
    "\n",
    "# Set view to full schedule (this section works)\n",
    "button_id = 'menu-button-:rr:'\n",
    "try:\n",
    "    WebDriverWait(driver, 10).until(expected_conditions.visibility_of_element_located((By.ID, button_id)))\n",
    "except NoSuchElementException:\n",
    "    raise NoSuchElementException(f'Dropdown for view is NOT FOUND')\n",
    "view_button = driver.find_element('id', button_id)\n",
    "view_button.click()\n",
    "\n",
    "button_id = 'menu-list-:rr:-menuitem-:ru:'\n",
    "try:\n",
    "    WebDriverWait(driver, 10).until(expected_conditions.visibility_of_element_located((By.ID, button_id)))\n",
    "except NoSuchElementException:\n",
    "    raise NoSuchElementException(f'Dropdown for select view is NOT FOUND')\n",
    "full_schedule_button = driver.find_element('id', button_id)\n",
    "full_schedule_button.click()\n",
    "\n",
    "## Set season to desired season\n",
    "# Select dropdown\n",
    "button_id = 'menu-button-:rd:'\n",
    "try:\n",
    "    WebDriverWait(driver, 10).until(expected_conditions.visibility_of_element_located((By.ID, button_id)))\n",
    "except NoSuchElementException:\n",
    "    raise NoSuchElementException(f'Dropdown for select season is NOT FOUND')\n",
    "\n",
    "season_button = driver.find_element('id', button_id)\n",
    "season_button.click()\n",
    "\n",
    "# Read season options\n",
    "soup = BeautifulSoup(driver.page_source, 'lxml')\n",
    "season_buttons = soup.find(attrs={'id': 'menu-list-:rd:'}).find_all('button')\n",
    "buttons = {button.text: button.get('id') for button in season_buttons}\n",
    "\"\"\"buttons is of form {year: id}\"\"\"\n",
    "\n",
    "# Confirm season is in buttons\n",
    "if season not in buttons.keys():\n",
    "    raise IndexError(f'Season \"{season}\" is not an option for this page.')\n",
    "\n",
    "# Select the correct season\n",
    "id_ = buttons[season]\n",
    "select_season_button = driver.find_element('id', id_)\n",
    "select_season_button.click()\n",
    "\n",
    "# driver.quit()"
   ]
  },
  {
   "attachments": {},
   "cell_type": "markdown",
   "metadata": {},
   "source": [
    "The above code works for: \n",
    "- setting the view to full season\n",
    "- setting the season to desired season"
   ]
  },
  {
   "cell_type": "code",
   "execution_count": 14,
   "metadata": {},
   "outputs": [
    {
     "data": {
      "text/plain": [
       "{'2022-2023': 'menu-list-:rd:-menuitem-:re:',\n",
       " '2021-2022': 'menu-list-:rd:-menuitem-:rf:',\n",
       " '2020-2021': 'menu-list-:rd:-menuitem-:rg:',\n",
       " '2019-2020': 'menu-list-:rd:-menuitem-:rh:',\n",
       " '2018-2019': 'menu-list-:rd:-menuitem-:ri:',\n",
       " '2017-2018': 'menu-list-:rd:-menuitem-:rj:',\n",
       " '2016-2017': 'menu-list-:rd:-menuitem-:rk:',\n",
       " '2015-2016': 'menu-list-:rd:-menuitem-:rl:',\n",
       " '2014-2015': 'menu-list-:rd:-menuitem-:rm:',\n",
       " '2013-2014': 'menu-list-:rd:-menuitem-:rn:',\n",
       " '2013': 'menu-list-:rd:-menuitem-:ro:',\n",
       " '2012': 'menu-list-:rd:-menuitem-:rp:'}"
      ]
     },
     "execution_count": 14,
     "metadata": {},
     "output_type": "execute_result"
    }
   ],
   "source": [
    "buttons"
   ]
  }
 ],
 "metadata": {
  "kernelspec": {
   "display_name": "dfs_golf-ulJKbWYT",
   "language": "python",
   "name": "python3"
  },
  "language_info": {
   "codemirror_mode": {
    "name": "ipython",
    "version": 3
   },
   "file_extension": ".py",
   "mimetype": "text/x-python",
   "name": "python",
   "nbconvert_exporter": "python",
   "pygments_lexer": "ipython3",
   "version": "3.10.9"
  },
  "orig_nbformat": 4
 },
 "nbformat": 4,
 "nbformat_minor": 2
}

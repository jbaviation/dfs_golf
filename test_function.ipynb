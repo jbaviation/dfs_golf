{
 "cells": [
  {
   "cell_type": "code",
   "execution_count": 47,
   "metadata": {},
   "outputs": [],
   "source": [
    "import selenium\n",
    "from bs4 import BeautifulSoup\n",
    "from selenium import webdriver\n",
    "from selenium.webdriver.common.by import By\n",
    "from selenium.webdriver.support.ui import Select\n",
    "from selenium.webdriver.support.ui import WebDriverWait\n",
    "from selenium.webdriver.support import expected_conditions as EC\n",
    "from selenium.webdriver.chrome.service import Service\n",
    "from selenium.common.exceptions import NoSuchElementException\n",
    "import re\n",
    "import pandas as pd\n",
    "import json\n",
    "import time\n",
    "\n",
    "driver_loc='/opt/homebrew/bin/chromedriver'"
   ]
  },
  {
   "attachments": {},
   "cell_type": "markdown",
   "metadata": {},
   "source": [
    "## Next step is to read tourney_links.json and process each tournament"
   ]
  },
  {
   "cell_type": "code",
   "execution_count": 37,
   "metadata": {},
   "outputs": [],
   "source": [
    "with open('pga_data/data_files/tourney_links.json', 'r') as f:\n",
    "    links = json.load(f)"
   ]
  },
  {
   "cell_type": "code",
   "execution_count": 53,
   "metadata": {},
   "outputs": [],
   "source": [
    "def get_tourney_details(link, name):\n",
    "    \"\"\"Get details of a specific tournament.\n",
    "    \n",
    "    Parameters\n",
    "    ----------\n",
    "    link : str\n",
    "        This string should be a url that leads to a tournemnt from pgatour.com.\n",
    "    name : str\n",
    "        The name of the tournament\n",
    "    \"\"\"\n",
    "\n",
    "    start_url = link + '/course-stats'\n",
    "\n",
    "    # Initiate webdriver\n",
    "    s = Service(driver_loc)\n",
    "    driver = webdriver.Chrome(service=s)\n",
    "    driver.get(start_url)\n",
    "\n",
    "\n",
    "    # Initialize dictionary\n",
    "    course = {}\n",
    "\n",
    "    # Select all holes\n",
    "    button_class = 'css-qchwq2'\n",
    "    try:\n",
    "        WebDriverWait(driver, 10).until(EC.visibility_of_element_located((By.CLASS_NAME, button_class)))\n",
    "    except NoSuchElementException:\n",
    "        raise NoSuchElementException(f'Unable to select Course Stats for {name}')\n",
    "    \n",
    "    hole_locs_bttn = driver.find_element(By.CLASS_NAME, button_class)\n",
    "    hole_locs_bttn.click()\n",
    "\n",
    "    # All holes are now selected.\n",
    "    # TODO: Determine if it is necessary to extract pin location information from these images\n",
    "\n",
    "    # Get course name\n",
    "    soup = BeautifulSoup(driver.page_source, 'lxml')\n",
    "    course_class = 'chakra-text css-mo47gj'\n",
    "    try:\n",
    "        course_name = soup.find(attrs={'class': course_class}).text\n",
    "    except:\n",
    "        print(f'Course name unable to be found')\n",
    "        course_name = None\n",
    "    course['course_name'] = course_name\n",
    "    \n",
    "\n",
    "\n",
    "    # Get hole stats\n",
    "\n",
    "    # Get course details\n",
    "\n",
    "\n",
    "    # Closeout driver\n",
    "    # driver.quit()\n",
    "    # time.sleep(10)\n",
    "    return course\n",
    "\n",
    "\n",
    "tourney = links[0]  # Fortinet Championship\n",
    "soup = get_tourney_details(tourney['tournament_link'], tourney['tournament_name'])"
   ]
  },
  {
   "cell_type": "code",
   "execution_count": 54,
   "metadata": {},
   "outputs": [
    {
     "data": {
      "text/plain": [
       "{'course_name': 'Silverado Resort and Spa (North Course)'}"
      ]
     },
     "execution_count": 54,
     "metadata": {},
     "output_type": "execute_result"
    }
   ],
   "source": [
    "soup"
   ]
  }
 ],
 "metadata": {
  "kernelspec": {
   "display_name": "dfs_golf-ulJKbWYT",
   "language": "python",
   "name": "python3"
  },
  "language_info": {
   "codemirror_mode": {
    "name": "ipython",
    "version": 3
   },
   "file_extension": ".py",
   "mimetype": "text/x-python",
   "name": "python",
   "nbconvert_exporter": "python",
   "pygments_lexer": "ipython3",
   "version": "3.10.9"
  },
  "orig_nbformat": 4
 },
 "nbformat": 4,
 "nbformat_minor": 2
}
